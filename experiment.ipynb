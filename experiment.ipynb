{
 "cells": [
  {
   "cell_type": "markdown",
   "metadata": {},
   "source": [
    "# Feature selection\n",
    "\n",
    "In this experiment, we will be comparing a stepwise forward selection method to alternative techniques such as L1 regularization and PLS regression."
   ]
  },
  {
   "cell_type": "code",
   "execution_count": null,
   "metadata": {},
   "outputs": [],
   "source": [
    "import numpy as np\n",
    "import pandas as pd\n",
    "import matplotlib.pyplot as plt\n",
    "from sklearn.linear_model import LogisticRegression\n",
    "from sklearn.model_selection import train_test_split\n",
    "from sklearn.metrics import roc_auc_score\n",
    "from utils import stepwise_forward_regression, pls_cross_validation, simulate_data\n",
    "import numpy as np\n",
    "import statsmodels.api as sm\n",
    "import json\n",
    "from sklearn.preprocessing import StandardScaler\n",
    "\n",
    "np.set_printoptions(suppress=True)"
   ]
  },
  {
   "cell_type": "markdown",
   "metadata": {},
   "source": [
    "First, we will simulate some data with 100 variables and 10K observations. Only the first 10 variables will be used to generate the output. The output will be sampled from a binomial distribution, and the beta coefficients will be drawn from a uniform distribution."
   ]
  },
  {
   "cell_type": "code",
   "execution_count": null,
   "metadata": {},
   "outputs": [],
   "source": [
    "# Simulate a process with 100 variables and 10K observations. Only 10 variables are correlated with the dependent variable\n",
    "np.random.seed(1234)\n",
    "n = 500\n",
    "p = 100\n",
    "intercept = -2\n",
    "\n",
    "X, y, beta, var_names = simulate_data(n, p, intercept, 10)\n",
    "\n",
    "X_standardized = StandardScaler().fit_transform(X)\n",
    "# Generate the dependent using an inverse logit function and round to the closest integer\n",
    "y_prob = 1 / (1 + np.exp(-X_standardized@beta-intercept))\n",
    "\n",
    "real_auc = roc_auc_score(y, y_prob)\n",
    "print(\"Real coefficients\", beta)\n",
    "print(\"Real AUC: \", real_auc)"
   ]
  },
  {
   "cell_type": "markdown",
   "metadata": {},
   "source": [
    "The first model to test is a Logistic Regression with no feature selection. Although the significant coefficients have similar values to the simulated ones, we can see that some of them are a little bit off, and that some of the coefficients that are supposed to be 0 are sometimes slightly different than 0."
   ]
  },
  {
   "cell_type": "code",
   "execution_count": null,
   "metadata": {},
   "outputs": [],
   "source": [
    "# Train test split\n",
    "X_train, X_test, y_train, y_test = train_test_split(X, y, test_size=0.2, random_state=1234)\n",
    "\n",
    "ss = StandardScaler()\n",
    "X_train = pd.DataFrame(ss.fit_transform(X_train), columns=var_names)\n",
    "X_test = pd.DataFrame(ss.transform(X_test), columns=var_names)\n",
    "# Scores of the initial model using all the variables\n",
    "base_lr = LogisticRegression()\n",
    "base_lr.fit(X_train, y_train)\n",
    "print(\"AUC score\", roc_auc_score(y_test, base_lr.predict_proba(X_test)[:, 1]))\n",
    "print(\"Coefficients\", base_lr.coef_[0])\n",
    "print(\"Intercept\", base_lr.intercept_[0])"
   ]
  },
  {
   "cell_type": "code",
   "execution_count": null,
   "metadata": {},
   "outputs": [],
   "source": [
    "# Perform stepwise forward regression\n",
    "selected_features = sorted(stepwise_forward_regression(X_train, y_train))\n",
    "print(\"Selected features\", selected_features)"
   ]
  },
  {
   "cell_type": "code",
   "execution_count": null,
   "metadata": {},
   "outputs": [],
   "source": [
    "# Performance of the model given the selected features\n",
    "stepwise_lr = LogisticRegression()\n",
    "stepwise_lr.fit(X_train[selected_features], y_train)\n",
    "print(\"AUC score\", roc_auc_score(y_test, stepwise_lr.predict_proba(X_test[selected_features])[:, 1]))\n",
    "\n",
    "print(\"Coefficients\", stepwise_lr.coef_[0])\n",
    "print(\"Intercept\", stepwise_lr.intercept_[0])"
   ]
  },
  {
   "cell_type": "code",
   "execution_count": null,
   "metadata": {},
   "outputs": [],
   "source": [
    "# Fit the model with L1 regularization\n",
    "l1_lr = LogisticRegression(penalty='elasticnet', l1_ratio=.1,solver='saga')\n",
    "l1_lr.fit(X_train, y_train)\n",
    "\n",
    "# Print the coefficients\n",
    "print(\"Coefficients\", l1_lr.coef_[0])\n",
    "print(\"Intercept\", l1_lr.intercept_[0])"
   ]
  },
  {
   "cell_type": "code",
   "execution_count": null,
   "metadata": {},
   "outputs": [],
   "source": [
    "comps, vips = pls_cross_validation(X_train, y_train, range(1, 10))\n",
    "# %%\n",
    "pls_lr = LogisticRegression()\n",
    "pls_lr.fit(X_train.loc[:, vips > 1], y_train)\n",
    "print(roc_auc_score(y_test, pls_lr.predict_proba(X_test.loc[:, vips > 1])[:, 1]))\n",
    "\n",
    "print(\"Coefficients\", pls_lr.coef_[0])\n",
    "print(\"Intercept\", pls_lr.intercept_[0])"
   ]
  },
  {
   "cell_type": "code",
   "execution_count": null,
   "metadata": {},
   "outputs": [],
   "source": [
    "results = {\n",
    "    \"simulated\":{\n",
    "        \"auc\": real_auc,\n",
    "        \"n_features\": p,\n",
    "        \"intercept\": intercept,\n",
    "        \"coefficients\": beta\n",
    "    },\n",
    "    \"base_lr\": {\n",
    "        \"coefficients\": base_lr.coef_[0],\n",
    "        \"intercept\": base_lr.intercept_[0],\n",
    "        \"auc\": roc_auc_score(y_test, base_lr.predict_proba(X_test)[:, 1]),\n",
    "        \"selected_features\": X.columns.tolist(),\n",
    "        \"n_features\": int(p)  # Convert to Python int\n",
    "    },\n",
    "    \"stepwise_lr\": {\n",
    "        \"coefficients\": stepwise_lr.coef_[0],\n",
    "        \"intercept\": stepwise_lr.intercept_[0],\n",
    "        \"auc\": roc_auc_score(y_test, stepwise_lr.predict_proba(X_test[selected_features])[:, 1]),\n",
    "        \"selected_features\": selected_features,\n",
    "        \"n_features\": int(len(selected_features))  # Convert to Python int\n",
    "    },\n",
    "    \"pls_lr\": {\n",
    "        \"coefficients\": pls_lr.coef_[0],\n",
    "        \"intercept\": pls_lr.intercept_[0],\n",
    "        \"auc\": roc_auc_score(y_test, pls_lr.predict_proba(X_test.loc[:, vips > 1])[:, 1]),\n",
    "        \"selected_features\": X.columns[vips > 1].tolist(),\n",
    "        \"n_features\": int(sum(vips > 1))  # Convert to Python int\n",
    "    }\n",
    "}"
   ]
  },
  {
   "cell_type": "code",
   "execution_count": null,
   "metadata": {},
   "outputs": [],
   "source": [
    "# Create a dataframe based on the results, using the keys as rows\n",
    "df = pd.DataFrame(results).T"
   ]
  },
  {
   "cell_type": "code",
   "execution_count": null,
   "metadata": {},
   "outputs": [],
   "source": [
    "df"
   ]
  },
  {
   "cell_type": "code",
   "execution_count": null,
   "metadata": {},
   "outputs": [],
   "source": [
    "df['meaningful_coefficients'] = df['coefficients'].apply(lambda x: x[:10])"
   ]
  },
  {
   "cell_type": "code",
   "execution_count": null,
   "metadata": {},
   "outputs": [],
   "source": [
    "meaningful_coeffs = np.stack(df['meaningful_coefficients'].values)\n",
    "\n",
    "plt.plot(meaningful_coeffs.T)\n",
    "plt.xlabel('Feature')\n",
    "plt.ylabel('Coefficient')\n",
    "plt.xticks(range(10), ['V{:02d}'.format(i) for i in range(1, 11)])\n",
    "plt.legend(df.index)"
   ]
  },
  {
   "cell_type": "code",
   "execution_count": null,
   "metadata": {},
   "outputs": [],
   "source": [
    "model_coeffs = meaningful_coeffs[0]\n",
    "print(\"Norm of the difference between the coefficients of the first model and the current model\")\n",
    "for index, vector in enumerate(meaningful_coeffs):\n",
    "    print(df.index[index], np.linalg.norm(model_coeffs-vector))"
   ]
  },
  {
   "cell_type": "code",
   "execution_count": null,
   "metadata": {},
   "outputs": [],
   "source": []
  }
 ],
 "metadata": {
  "kernelspec": {
   "display_name": "base",
   "language": "python",
   "name": "python3"
  },
  "language_info": {
   "codemirror_mode": {
    "name": "ipython",
    "version": 3
   },
   "file_extension": ".py",
   "mimetype": "text/x-python",
   "name": "python",
   "nbconvert_exporter": "python",
   "pygments_lexer": "ipython3",
   "version": "3.11.7"
  }
 },
 "nbformat": 4,
 "nbformat_minor": 2
}
